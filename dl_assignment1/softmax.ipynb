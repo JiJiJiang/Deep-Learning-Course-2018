{
 "cells": [
  {
   "cell_type": "markdown",
   "metadata": {},
   "source": [
    "# Softmax exercise\n",
    "\n",
    "*Complete and hand in this completed worksheet (including its outputs and any supporting code outside of the worksheet) with your assignment submission. For more details see the [assignments page](http://vision.stanford.edu/teaching/cs231n/assignments.html) on the course website.*\n",
    "\n",
    "This exercise is analogous to the SVM exercise. You will:\n",
    "\n",
    "- implement a fully-vectorized **loss function** for the Softmax classifier\n",
    "- implement the fully-vectorized expression for its **analytic gradient**\n",
    "- **check your implementation** with numerical gradient\n",
    "- use a validation set to **tune the learning rate and regularization** strength\n",
    "- **optimize** the loss function with **SGD**\n",
    "- **visualize** the final learned weights\n"
   ]
  },
  {
   "cell_type": "code",
   "execution_count": 17,
   "metadata": {},
   "outputs": [
    {
     "name": "stdout",
     "output_type": "stream",
     "text": [
      "The autoreload extension is already loaded. To reload it, use:\n",
      "  %reload_ext autoreload\n"
     ]
    }
   ],
   "source": [
    "import random\n",
    "import numpy as np\n",
    "from cs231n.data_utils import load_CIFAR10\n",
    "import matplotlib.pyplot as plt\n",
    "%matplotlib inline\n",
    "plt.rcParams['figure.figsize'] = (10.0, 8.0) # set default size of plots\n",
    "plt.rcParams['image.interpolation'] = 'nearest'\n",
    "plt.rcParams['image.cmap'] = 'gray'\n",
    "\n",
    "# for auto-reloading extenrnal modules\n",
    "# see http://stackoverflow.com/questions/1907993/autoreload-of-modules-in-ipython\n",
    "%load_ext autoreload\n",
    "%autoreload 2"
   ]
  },
  {
   "cell_type": "code",
   "execution_count": 18,
   "metadata": {},
   "outputs": [
    {
     "name": "stdout",
     "output_type": "stream",
     "text": [
      "Train data shape:  (49000, 3073)\n",
      "Train labels shape:  (49000,)\n",
      "Validation data shape:  (1000, 3073)\n",
      "Validation labels shape:  (1000,)\n",
      "Test data shape:  (1000, 3073)\n",
      "Test labels shape:  (1000,)\n",
      "dev data shape:  (500, 3073)\n",
      "dev labels shape:  (500,)\n"
     ]
    }
   ],
   "source": [
    "def get_CIFAR10_data(num_training=49000, num_validation=1000, num_test=1000, num_dev=500):\n",
    "  \"\"\"\n",
    "  Load the CIFAR-10 dataset from disk and perform preprocessing to prepare\n",
    "  it for the linear classifier. These are the same steps as we used for the\n",
    "  SVM, but condensed to a single function.  \n",
    "  \"\"\"\n",
    "  # Load the raw CIFAR-10 data\n",
    "  cifar10_dir = 'cs231n/datasets/cifar-10-batches-py'\n",
    "  X_train, y_train, X_test, y_test = load_CIFAR10(cifar10_dir)\n",
    "  \n",
    "  # subsample the data\n",
    "  mask = range(num_training, num_training + num_validation)\n",
    "  X_val = X_train[mask]\n",
    "  y_val = y_train[mask]\n",
    "  mask = range(num_training)\n",
    "  X_train = X_train[mask]\n",
    "  y_train = y_train[mask]\n",
    "  mask = range(num_test)\n",
    "  X_test = X_test[mask]\n",
    "  y_test = y_test[mask]\n",
    "  mask = np.random.choice(num_training, num_dev, replace=False) # choose from train set without the same ones\n",
    "  X_dev = X_train[mask]\n",
    "  y_dev = y_train[mask]\n",
    "  \n",
    "  # Preprocessing: reshape the image data into rows\n",
    "  #print X_train.shape\n",
    "  X_train = np.reshape(X_train, (X_train.shape[0], -1))\n",
    "  X_val = np.reshape(X_val, (X_val.shape[0], -1))\n",
    "  X_test = np.reshape(X_test, (X_test.shape[0], -1))\n",
    "  X_dev = np.reshape(X_dev, (X_dev.shape[0], -1))\n",
    "  \n",
    "  # Normalize the data: subtract the mean image\n",
    "  mean_image = np.mean(X_train, axis = 0)\n",
    "  X_train -= mean_image\n",
    "  X_val -= mean_image\n",
    "  X_test -= mean_image\n",
    "  X_dev -= mean_image\n",
    "  \n",
    "  # add bias dimension and transform into columns\n",
    "  X_train = np.hstack([X_train, np.ones((X_train.shape[0], 1))])\n",
    "  X_val = np.hstack([X_val, np.ones((X_val.shape[0], 1))])\n",
    "  X_test = np.hstack([X_test, np.ones((X_test.shape[0], 1))])\n",
    "  X_dev = np.hstack([X_dev, np.ones((X_dev.shape[0], 1))])\n",
    "  \n",
    "  return X_train, y_train, X_val, y_val, X_test, y_test, X_dev, y_dev\n",
    "\n",
    "\n",
    "# Invoke the above function to get our data.\n",
    "X_train, y_train, X_val, y_val, X_test, y_test, X_dev, y_dev = get_CIFAR10_data()\n",
    "print 'Train data shape: ', X_train.shape\n",
    "print 'Train labels shape: ', y_train.shape\n",
    "print 'Validation data shape: ', X_val.shape\n",
    "print 'Validation labels shape: ', y_val.shape\n",
    "print 'Test data shape: ', X_test.shape\n",
    "print 'Test labels shape: ', y_test.shape\n",
    "print 'dev data shape: ', X_dev.shape\n",
    "print 'dev labels shape: ', y_dev.shape\n",
    "#print 'dev data: ', X_dev[0,30:50]\n",
    "#print 'dev labels: ', y_train[45:65]"
   ]
  },
  {
   "cell_type": "markdown",
   "metadata": {},
   "source": [
    "## Softmax Classifier\n",
    "\n",
    "Your code for this section will all be written inside **cs231n/classifiers/softmax.py**. \n"
   ]
  },
  {
   "cell_type": "code",
   "execution_count": 19,
   "metadata": {},
   "outputs": [
    {
     "name": "stdout",
     "output_type": "stream",
     "text": [
      "loss: 2.292873\n",
      "sanity check: 2.302585\n"
     ]
    }
   ],
   "source": [
    "# First implement the naive softmax loss function with nested loops.\n",
    "# Open the file cs231n/classifiers/softmax.py and implement the\n",
    "# softmax_loss_naive function.\n",
    "\n",
    "from cs231n.classifiers.softmax import softmax_loss_naive\n",
    "import time\n",
    "\n",
    "# Generate a random softmax weight matrix and use it to compute the loss.\n",
    "W = np.random.randn(3073, 10) * 0.0001\n",
    "#print 'W: ',W\n",
    "loss, grad = softmax_loss_naive(W, X_dev, y_dev, 0.0)\n",
    "\n",
    "# As a rough sanity check, our loss should be something close to -log(0.1).\n",
    "print 'loss: %f' % loss\n",
    "print 'sanity check: %f' % (-np.log(0.1))"
   ]
  },
  {
   "cell_type": "markdown",
   "metadata": {},
   "source": [
    "## Inline Question 1:\n",
    "Why do we expect our loss to be close to -log(0.1)? Explain briefly.**\n",
    "\n",
    "**Your answer:** *Firstly, the initialized weighted matrix is sampled from univariate standard normal distribution, thus having no prefenrence or learnt knowledge to predict the correct label of any sample. Secondly, for this 10-classes classification problem, every sample gets a 10-dim output vector after multiplying by W matrix, and it's evident that these 10 output values are probably very close. Moreover, in our dev set, it's hopeful that every class has nearly the same amount of data. Therefore, the loss expectation of every sample is actually -log(0.1), so with the amount of dev set increasing, the average loss of dev set is more stably to reach its expectation value, -log(0.1).*\n"
   ]
  },
  {
   "cell_type": "code",
   "execution_count": 20,
   "metadata": {},
   "outputs": [
    {
     "name": "stdout",
     "output_type": "stream",
     "text": [
      "numerical: -0.926001 analytic: -0.926001, relative error: 1.322498e-08\n",
      "numerical: 1.172541 analytic: 1.172541, relative error: 2.068549e-08\n",
      "numerical: -1.460703 analytic: -1.460703, relative error: 1.385661e-08\n",
      "numerical: 1.060084 analytic: 1.060084, relative error: 3.341171e-11\n",
      "numerical: 0.636735 analytic: 0.636735, relative error: 7.018580e-08\n",
      "numerical: -0.347866 analytic: -0.347866, relative error: 9.329424e-08\n",
      "numerical: -1.559351 analytic: -1.559351, relative error: 3.491150e-08\n",
      "numerical: 1.347924 analytic: 1.347923, relative error: 3.880490e-08\n",
      "numerical: 1.068248 analytic: 1.068248, relative error: 2.974496e-08\n",
      "numerical: -1.746849 analytic: -1.746849, relative error: 3.510218e-08\n",
      "numerical: 0.833146 analytic: 0.833146, relative error: 1.790976e-08\n",
      "numerical: 1.007370 analytic: 1.007370, relative error: 5.621954e-08\n",
      "numerical: 0.836907 analytic: 0.836907, relative error: 5.980243e-09\n",
      "numerical: 3.761693 analytic: 3.761693, relative error: 1.126238e-08\n",
      "numerical: 1.855110 analytic: 1.855110, relative error: 4.524023e-09\n",
      "numerical: -1.942069 analytic: -1.942069, relative error: 1.787260e-08\n",
      "numerical: -3.172297 analytic: -3.172298, relative error: 2.034281e-08\n",
      "numerical: 0.966063 analytic: 0.966063, relative error: 3.474567e-08\n",
      "numerical: 0.516662 analytic: 0.516662, relative error: 1.078650e-07\n",
      "numerical: -3.747144 analytic: -3.747145, relative error: 1.498273e-08\n"
     ]
    }
   ],
   "source": [
    "# Complete the implementation of softmax_loss_naive and implement a (naive)\n",
    "# version of the gradient that uses nested loops.\n",
    "loss, grad = softmax_loss_naive(W, X_dev, y_dev, 0.0)\n",
    "\n",
    "# As we did for the SVM, use numeric gradient checking as a debugging tool.\n",
    "# The numeric gradient should be close to the analytic gradient.\n",
    "from cs231n.gradient_check import grad_check_sparse\n",
    "f = lambda w: softmax_loss_naive(w, X_dev, y_dev, 0.0)[0]\n",
    "grad_numerical = grad_check_sparse(f, W, grad, 10)\n",
    "\n",
    "# similar to SVM case, do another gradient check with regularization\n",
    "loss, grad = softmax_loss_naive(W, X_dev, y_dev, 1e2)\n",
    "f = lambda w: softmax_loss_naive(w, X_dev, y_dev, 1e2)[0]\n",
    "grad_numerical = grad_check_sparse(f, W, grad, 10)"
   ]
  },
  {
   "cell_type": "code",
   "execution_count": 21,
   "metadata": {},
   "outputs": [
    {
     "name": "stdout",
     "output_type": "stream",
     "text": [
      "naive loss: 2.292873e+00 computed in 0.171380s\n",
      "vectorized loss: 2.292873e+00 computed in 0.077289s\n",
      "Loss difference: 0.000000\n",
      "Gradient difference: 0.000000\n"
     ]
    }
   ],
   "source": [
    "# Now that we have a naive implementation of the softmax loss function and its gradient,\n",
    "# implement a vectorized version in softmax_loss_vectorized.\n",
    "# The two versions should compute the same results, but the vectorized version should be\n",
    "# much faster.\n",
    "tic = time.time()\n",
    "loss_naive, grad_naive = softmax_loss_naive(W, X_dev, y_dev, 0.00001)\n",
    "toc = time.time()\n",
    "print 'naive loss: %e computed in %fs' % (loss_naive, toc - tic)\n",
    "\n",
    "from cs231n.classifiers.softmax import softmax_loss_vectorized\n",
    "tic = time.time()\n",
    "loss_vectorized, grad_vectorized = softmax_loss_vectorized(W, X_dev, y_dev, 0.00001)\n",
    "toc = time.time()\n",
    "print 'vectorized loss: %e computed in %fs' % (loss_vectorized, toc - tic)\n",
    "\n",
    "# As we did for the SVM, we use the Frobenius norm to compare the two versions\n",
    "# of the gradient.\n",
    "grad_difference = np.linalg.norm(grad_naive - grad_vectorized, ord='fro')\n",
    "print 'Loss difference: %f' % np.abs(loss_naive - loss_vectorized)\n",
    "print 'Gradient difference: %f' % grad_difference"
   ]
  },
  {
   "cell_type": "code",
   "execution_count": 22,
   "metadata": {},
   "outputs": [
    {
     "name": "stdout",
     "output_type": "stream",
     "text": [
      "########### Current para is lr=3.000000e-07, reg=3.000000e+03 ###########\n",
      "iteration 0 / 2000: loss 51.776023\n",
      "iteration 100 / 2000: loss 41.026683\n",
      "iteration 200 / 2000: loss 34.269042\n",
      "iteration 300 / 2000: loss 28.679623\n",
      "iteration 400 / 2000: loss 24.342992\n",
      "iteration 500 / 2000: loss 20.326567\n",
      "iteration 600 / 2000: loss 17.173928\n",
      "iteration 700 / 2000: loss 14.668567\n",
      "iteration 800 / 2000: loss 12.507359\n",
      "iteration 900 / 2000: loss 10.689706\n",
      "iteration 1000 / 2000: loss 9.274555\n",
      "iteration 1100 / 2000: loss 8.117119\n",
      "iteration 1200 / 2000: loss 7.028668\n",
      "iteration 1300 / 2000: loss 6.151676\n",
      "iteration 1400 / 2000: loss 5.513117\n",
      "iteration 1500 / 2000: loss 4.818517\n",
      "iteration 1600 / 2000: loss 4.298486\n",
      "iteration 1700 / 2000: loss 3.865634\n",
      "iteration 1800 / 2000: loss 3.650971\n",
      "iteration 1900 / 2000: loss 3.272831\n",
      "########### Current para is lr=3.000000e-07, reg=5.000000e+03 ###########\n",
      "iteration 0 / 2000: loss 81.047168\n",
      "iteration 100 / 2000: loss 58.547116\n",
      "iteration 200 / 2000: loss 43.496767\n",
      "iteration 300 / 2000: loss 32.495113\n",
      "iteration 400 / 2000: loss 24.679915\n",
      "iteration 500 / 2000: loss 18.671838\n",
      "iteration 600 / 2000: loss 14.272568\n",
      "iteration 700 / 2000: loss 11.083483\n",
      "iteration 800 / 2000: loss 8.654919\n",
      "iteration 900 / 2000: loss 6.849834\n",
      "iteration 1000 / 2000: loss 5.556315\n",
      "iteration 1100 / 2000: loss 4.516879\n",
      "iteration 1200 / 2000: loss 3.923021\n",
      "iteration 1300 / 2000: loss 3.293355\n",
      "iteration 1400 / 2000: loss 2.986534\n",
      "iteration 1500 / 2000: loss 2.618079\n",
      "iteration 1600 / 2000: loss 2.476453\n",
      "iteration 1700 / 2000: loss 2.370632\n",
      "iteration 1800 / 2000: loss 2.221415\n",
      "iteration 1900 / 2000: loss 2.107313\n",
      "########### Current para is lr=5.000000e-07, reg=3.000000e+03 ###########\n",
      "iteration 0 / 2000: loss 51.501631\n",
      "iteration 100 / 2000: loss 36.850727\n",
      "iteration 200 / 2000: loss 27.339097\n",
      "iteration 300 / 2000: loss 20.500586\n",
      "iteration 400 / 2000: loss 15.599663\n",
      "iteration 500 / 2000: loss 12.078933\n",
      "iteration 600 / 2000: loss 9.348027\n",
      "iteration 700 / 2000: loss 7.373241\n",
      "iteration 800 / 2000: loss 5.861446\n",
      "iteration 900 / 2000: loss 4.825452\n",
      "iteration 1000 / 2000: loss 3.993958\n",
      "iteration 1100 / 2000: loss 3.477288\n",
      "iteration 1200 / 2000: loss 3.170356\n",
      "iteration 1300 / 2000: loss 2.799824\n",
      "iteration 1400 / 2000: loss 2.532705\n",
      "iteration 1500 / 2000: loss 2.435582\n",
      "iteration 1600 / 2000: loss 2.313921\n",
      "iteration 1700 / 2000: loss 2.120925\n",
      "iteration 1800 / 2000: loss 2.044833\n",
      "iteration 1900 / 2000: loss 1.977302\n",
      "########### Current para is lr=5.000000e-07, reg=5.000000e+03 ###########\n",
      "iteration 0 / 2000: loss 83.232181\n",
      "iteration 100 / 2000: loss 48.995123\n",
      "iteration 200 / 2000: loss 29.989304\n",
      "iteration 300 / 2000: loss 18.999762\n",
      "iteration 400 / 2000: loss 12.096653\n",
      "iteration 500 / 2000: loss 8.015611\n",
      "iteration 600 / 2000: loss 5.557922\n",
      "iteration 700 / 2000: loss 4.164115\n",
      "iteration 800 / 2000: loss 3.277900\n",
      "iteration 900 / 2000: loss 2.714712\n",
      "iteration 1000 / 2000: loss 2.314734\n",
      "iteration 1100 / 2000: loss 2.186845\n",
      "iteration 1200 / 2000: loss 2.132953\n",
      "iteration 1300 / 2000: loss 1.980388\n",
      "iteration 1400 / 2000: loss 2.019335\n",
      "iteration 1500 / 2000: loss 1.886170\n",
      "iteration 1600 / 2000: loss 1.964912\n",
      "iteration 1700 / 2000: loss 1.877196\n",
      "iteration 1800 / 2000: loss 1.947377\n",
      "iteration 1900 / 2000: loss 1.920941\n",
      "########### Current para is lr=7.000000e-07, reg=3.000000e+03 ###########\n",
      "iteration 0 / 2000: loss 51.353048\n",
      "iteration 100 / 2000: loss 32.459594\n",
      "iteration 200 / 2000: loss 21.683621\n",
      "iteration 300 / 2000: loss 14.864202\n",
      "iteration 400 / 2000: loss 10.194642\n",
      "iteration 500 / 2000: loss 7.392749\n",
      "iteration 600 / 2000: loss 5.411874\n",
      "iteration 700 / 2000: loss 4.227114\n",
      "iteration 800 / 2000: loss 3.545931\n",
      "iteration 900 / 2000: loss 2.863091\n",
      "iteration 1000 / 2000: loss 2.536050\n",
      "iteration 1100 / 2000: loss 2.368589\n",
      "iteration 1200 / 2000: loss 2.077205\n",
      "iteration 1300 / 2000: loss 2.026362\n",
      "iteration 1400 / 2000: loss 2.004170\n",
      "iteration 1500 / 2000: loss 1.893923\n",
      "iteration 1600 / 2000: loss 1.922962\n",
      "iteration 1700 / 2000: loss 1.910964\n",
      "iteration 1800 / 2000: loss 1.846078\n",
      "iteration 1900 / 2000: loss 1.869562\n",
      "########### Current para is lr=7.000000e-07, reg=5.000000e+03 ###########\n",
      "iteration 0 / 2000: loss 83.294249\n",
      "iteration 100 / 2000: loss 40.019263\n",
      "iteration 200 / 2000: loss 20.690534\n",
      "iteration 300 / 2000: loss 10.985347\n",
      "iteration 400 / 2000: loss 6.487672\n",
      "iteration 500 / 2000: loss 4.091771\n",
      "iteration 600 / 2000: loss 3.018486\n",
      "iteration 700 / 2000: loss 2.447400\n",
      "iteration 800 / 2000: loss 2.050961\n",
      "iteration 900 / 2000: loss 1.988430\n",
      "iteration 1000 / 2000: loss 1.911662\n",
      "iteration 1100 / 2000: loss 1.845509\n",
      "iteration 1200 / 2000: loss 1.836666\n",
      "iteration 1300 / 2000: loss 1.877775\n",
      "iteration 1400 / 2000: loss 1.898095\n",
      "iteration 1500 / 2000: loss 2.002646\n",
      "iteration 1600 / 2000: loss 1.916513\n",
      "iteration 1700 / 2000: loss 1.874852\n",
      "iteration 1800 / 2000: loss 1.924186\n",
      "iteration 1900 / 2000: loss 1.939002\n",
      "lr 3.000000e-07 reg 3.000000e+03 train accuracy: 0.384306 val accuracy: 0.376000\n",
      "lr 3.000000e-07 reg 5.000000e+03 train accuracy: 0.382653 val accuracy: 0.390000\n",
      "lr 5.000000e-07 reg 3.000000e+03 train accuracy: 0.395306 val accuracy: 0.403000\n",
      "lr 5.000000e-07 reg 5.000000e+03 train accuracy: 0.388939 val accuracy: 0.395000\n",
      "lr 7.000000e-07 reg 3.000000e+03 train accuracy: 0.395449 val accuracy: 0.389000\n",
      "lr 7.000000e-07 reg 5.000000e+03 train accuracy: 0.387939 val accuracy: 0.391000\n",
      "best validation accuracy achieved during cross-validation: 0.403000\n"
     ]
    }
   ],
   "source": [
    "# Use the validation set to tune hyperparameters (regularization strength and\n",
    "# learning rate). You should experiment with different ranges for the learning\n",
    "# rates and regularization strengths; if you are careful you should be able to\n",
    "# get a classification accuracy of over 0.35 on the validation set.\n",
    "from cs231n.classifiers import Softmax\n",
    "results = {}\n",
    "best_val = -1\n",
    "best_softmax = None\n",
    "learning_rates = [3e-7, 5e-7, 7e-7]\n",
    "regularization_strengths = [3e3, 5e3]\n",
    "\n",
    "################################################################################\n",
    "# TODO:                                                                        #\n",
    "# Use the validation set to set the learning rate and regularization strength. #\n",
    "# This should be identical to the validation that you did for the SVM; save    #\n",
    "# the best trained softmax classifer in best_softmax.                          #\n",
    "################################################################################\n",
    "\n",
    "paras=[(lr,reg) for lr in learning_rates for reg in regularization_strengths]\n",
    "for lr,reg in paras:\n",
    "    print '########### Current para is lr=%e, reg=%e ###########'%(lr,reg)\n",
    "    softmax=Softmax()\n",
    "    loss_history = softmax.train(X_train,y_train,\n",
    "                learning_rate=lr, reg=reg, num_iters=2000, batch_size=200, verbose=True)\n",
    "    y_train_pred = softmax.predict(X_train)\n",
    "    train_accuracy = np.mean(y_train_pred==y_train)\n",
    "    y_val_pred = softmax.predict(X_val)\n",
    "    val_accuracy = np.mean(y_val_pred==y_val)\n",
    "    results[(lr,reg)]=(train_accuracy, val_accuracy)\n",
    "    if val_accuracy > best_val: \n",
    "        best_val = val_accuracy\n",
    "        best_softmax = softmax\n",
    "\n",
    "################################################################################\n",
    "#                              END OF YOUR CODE                                #\n",
    "################################################################################\n",
    "    \n",
    "# Print out results.\n",
    "for lr, reg in sorted(results):\n",
    "    train_accuracy, val_accuracy = results[(lr, reg)]\n",
    "    print 'lr %e reg %e train accuracy: %f val accuracy: %f' % (\n",
    "                lr, reg, train_accuracy, val_accuracy)\n",
    "    \n",
    "print 'best validation accuracy achieved during cross-validation: %f' % best_val"
   ]
  },
  {
   "cell_type": "code",
   "execution_count": 23,
   "metadata": {},
   "outputs": [
    {
     "name": "stdout",
     "output_type": "stream",
     "text": [
      "softmax on raw pixels final test set accuracy: 0.402000\n"
     ]
    }
   ],
   "source": [
    "# evaluate on test set\n",
    "# Evaluate the best softmax on test set\n",
    "y_test_pred = best_softmax.predict(X_test)\n",
    "test_accuracy = np.mean(y_test == y_test_pred)\n",
    "print 'softmax on raw pixels final test set accuracy: %f' % (test_accuracy, )"
   ]
  },
  {
   "cell_type": "code",
   "execution_count": 24,
   "metadata": {},
   "outputs": [
    {
     "data": {
      "image/png": "[encoded data removed]",
      "text/plain": [
       "<Figure size 720x576 with 10 Axes>"
      ]
     },
     "metadata": {},
     "output_type": "display_data"
    }
   ],
   "source": [
    "# Visualize the learned weights for each class\n",
    "w = best_softmax.W[:-1,:] # strip out the bias\n",
    "w = w.reshape(32, 32, 3, 10)\n",
    "\n",
    "w_min, w_max = np.min(w), np.max(w)\n",
    "\n",
    "classes = ['plane', 'car', 'bird', 'cat', 'deer', 'dog', 'frog', 'horse', 'ship', 'truck']\n",
    "for i in xrange(10):\n",
    "  plt.subplot(2, 5, i + 1)\n",
    "  \n",
    "  # Rescale the weights to be between 0 and 255\n",
    "  wimg = 255.0 * (w[:, :, :, i].squeeze() - w_min) / (w_max - w_min)\n",
    "  plt.imshow(wimg.astype('uint8'))\n",
    "  plt.axis('off')\n",
    "  plt.title(classes[i])"
   ]
  },
  {
   "cell_type": "code",
   "execution_count": null,
   "metadata": {},
   "outputs": [],
   "source": []
  }
 ],
 "metadata": {
  "kernelspec": {
   "display_name": "Python 2",
   "language": "python",
   "name": "python2"
  },
  "language_info": {
   "codemirror_mode": {
    "name": "ipython",
    "version": 2
   },
   "file_extension": ".py",
   "mimetype": "text/x-python",
   "name": "python",
   "nbconvert_exporter": "python",
   "pygments_lexer": "ipython2",
   "version": "2.7.15"
  }
 },
 "nbformat": 4,
 "nbformat_minor": 1
}
